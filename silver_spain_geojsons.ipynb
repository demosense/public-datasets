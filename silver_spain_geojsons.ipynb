{
 "cells": [
  {
   "cell_type": "code",
   "execution_count": 15,
   "metadata": {},
   "outputs": [
    {
     "data": {
      "text/plain": [
       "True"
      ]
     },
     "execution_count": 15,
     "metadata": {},
     "output_type": "execute_result"
    }
   ],
   "source": [
    "import geopandas as gpd\n",
    "from fuzzywuzzy import process\n",
    "import awswrangler as wr\n",
    "import os\n",
    "import json\n",
    "import io\n",
    "import dotenv\n",
    "\n",
    "dotenv.load_dotenv()"
   ]
  },
  {
   "cell_type": "code",
   "execution_count": 16,
   "metadata": {},
   "outputs": [],
   "source": [
    "AWS_PROFILE = os.getenv(\"AWS_PROFILE\")\n",
    "DATA_PATH = os.getenv(\"DATA_PATH\")"
   ]
  },
  {
   "cell_type": "code",
   "execution_count": 6,
   "metadata": {},
   "outputs": [],
   "source": [
    "def normalize_str_choices(value, allowed_values, fz_threshold=70):\n",
    "    if value is None or not isinstance(value, str):\n",
    "        return None\n",
    "    # fuzzy matching\n",
    "    fz = process.extractOne(value, allowed_values)\n",
    "    if fz is not None and fz[1] >= fz_threshold:\n",
    "        return fz[0]\n",
    "    else:\n",
    "        return None"
   ]
  },
  {
   "cell_type": "code",
   "execution_count": 17,
   "metadata": {},
   "outputs": [],
   "source": [
    "stream = io.BytesIO()\n",
    "wr.s3.download(f\"{DATA_PATH}/schemas/spain_municipality.json\", stream)\n",
    "spain_municipality = json.loads(stream.getvalue())"
   ]
  },
  {
   "cell_type": "code",
   "execution_count": 18,
   "metadata": {},
   "outputs": [],
   "source": [
    "df_communities = gpd.read_file(\"./geojsons/spain-communities.geojson\")\n",
    "df_provinces = gpd.read_file(\"./geojsons/spain-provinces.geojson\")"
   ]
  },
  {
   "cell_type": "code",
   "execution_count": 20,
   "metadata": {},
   "outputs": [],
   "source": [
    "spain_comunidades = list(spain_municipality.keys())\n",
    "spain_provinces = [p for provinces in spain_municipality.values() for p in provinces]"
   ]
  },
  {
   "cell_type": "code",
   "execution_count": 31,
   "metadata": {},
   "outputs": [
    {
     "data": {
      "text/html": [
       "<div>\n",
       "<style scoped>\n",
       "    .dataframe tbody tr th:only-of-type {\n",
       "        vertical-align: middle;\n",
       "    }\n",
       "\n",
       "    .dataframe tbody tr th {\n",
       "        vertical-align: top;\n",
       "    }\n",
       "\n",
       "    .dataframe thead th {\n",
       "        text-align: right;\n",
       "    }\n",
       "</style>\n",
       "<table border=\"1\" class=\"dataframe\">\n",
       "  <thead>\n",
       "    <tr style=\"text-align: right;\">\n",
       "      <th></th>\n",
       "      <th>cod_ccaa</th>\n",
       "      <th>name</th>\n",
       "      <th>geometry</th>\n",
       "    </tr>\n",
       "  </thead>\n",
       "  <tbody>\n",
       "    <tr>\n",
       "      <th>0</th>\n",
       "      <td>07</td>\n",
       "      <td>Castilla y León</td>\n",
       "      <td>MULTIPOLYGON (((-4.89358 43.23848, -4.8392 43....</td>\n",
       "    </tr>\n",
       "    <tr>\n",
       "      <th>1</th>\n",
       "      <td>09</td>\n",
       "      <td>Cataluña</td>\n",
       "      <td>MULTIPOLYGON (((0.71604 42.85832, 0.85552 42.8...</td>\n",
       "    </tr>\n",
       "    <tr>\n",
       "      <th>2</th>\n",
       "      <td>18</td>\n",
       "      <td>Ceuta (Ciudad de)</td>\n",
       "      <td>MULTIPOLYGON (((-5.34496 35.87106, -5.37291 35...</td>\n",
       "    </tr>\n",
       "    <tr>\n",
       "      <th>3</th>\n",
       "      <td>14</td>\n",
       "      <td>Murcia (Región de)</td>\n",
       "      <td>MULTIPOLYGON (((-1.14985 38.74607, -1.11967 38...</td>\n",
       "    </tr>\n",
       "    <tr>\n",
       "      <th>4</th>\n",
       "      <td>17</td>\n",
       "      <td>Rioja (La)</td>\n",
       "      <td>MULTIPOLYGON (((-2.99723 42.64214, -2.94645 42...</td>\n",
       "    </tr>\n",
       "  </tbody>\n",
       "</table>\n",
       "</div>"
      ],
      "text/plain": [
       "  cod_ccaa                name  \\\n",
       "0       07     Castilla y León   \n",
       "1       09            Cataluña   \n",
       "2       18   Ceuta (Ciudad de)   \n",
       "3       14  Murcia (Región de)   \n",
       "4       17          Rioja (La)   \n",
       "\n",
       "                                            geometry  \n",
       "0  MULTIPOLYGON (((-4.89358 43.23848, -4.8392 43....  \n",
       "1  MULTIPOLYGON (((0.71604 42.85832, 0.85552 42.8...  \n",
       "2  MULTIPOLYGON (((-5.34496 35.87106, -5.37291 35...  \n",
       "3  MULTIPOLYGON (((-1.14985 38.74607, -1.11967 38...  \n",
       "4  MULTIPOLYGON (((-2.99723 42.64214, -2.94645 42...  "
      ]
     },
     "execution_count": 31,
     "metadata": {},
     "output_type": "execute_result"
    }
   ],
   "source": [
    "df_silver_communities = (\n",
    "    df_communities\n",
    "    .assign(\n",
    "        name=lambda df: df.name.map(lambda x: normalize_str_choices(x, spain_comunidades)),\n",
    "\n",
    "    )\n",
    "    .astype({\n",
    "        \"cod_ccaa\": \"string\",\n",
    "        \"name\": \"string\",\n",
    "    })\n",
    "    [[\"cod_ccaa\", \"name\", \"geometry\"]]\n",
    ")\n",
    "df_silver_communities.head()"
   ]
  },
  {
   "cell_type": "code",
   "execution_count": 38,
   "metadata": {},
   "outputs": [],
   "source": [
    "assert df_silver_communities.isna().sum().sum() == 0"
   ]
  },
  {
   "cell_type": "code",
   "execution_count": 32,
   "metadata": {},
   "outputs": [
    {
     "data": {
      "text/html": [
       "<div>\n",
       "<style scoped>\n",
       "    .dataframe tbody tr th:only-of-type {\n",
       "        vertical-align: middle;\n",
       "    }\n",
       "\n",
       "    .dataframe tbody tr th {\n",
       "        vertical-align: top;\n",
       "    }\n",
       "\n",
       "    .dataframe thead th {\n",
       "        text-align: right;\n",
       "    }\n",
       "</style>\n",
       "<table border=\"1\" class=\"dataframe\">\n",
       "  <thead>\n",
       "    <tr style=\"text-align: right;\">\n",
       "      <th></th>\n",
       "      <th>cod_prov</th>\n",
       "      <th>cod_ccaa</th>\n",
       "      <th>name</th>\n",
       "      <th>geometry</th>\n",
       "    </tr>\n",
       "  </thead>\n",
       "  <tbody>\n",
       "    <tr>\n",
       "      <th>0</th>\n",
       "      <td>07</td>\n",
       "      <td>03</td>\n",
       "      <td>Balears (Illes)</td>\n",
       "      <td>MULTIPOLYGON (((3.21364 39.95751, 3.1544 39.92...</td>\n",
       "    </tr>\n",
       "    <tr>\n",
       "      <th>1</th>\n",
       "      <td>33</td>\n",
       "      <td>18</td>\n",
       "      <td>Asturias</td>\n",
       "      <td>MULTIPOLYGON (((-5.84083 43.66062, -5.83002 43...</td>\n",
       "    </tr>\n",
       "    <tr>\n",
       "      <th>2</th>\n",
       "      <td>15</td>\n",
       "      <td>11</td>\n",
       "      <td>Coruña (A)</td>\n",
       "      <td>MULTIPOLYGON (((-7.6803 43.78714, -7.66231 43....</td>\n",
       "    </tr>\n",
       "    <tr>\n",
       "      <th>3</th>\n",
       "      <td>17</td>\n",
       "      <td>08</td>\n",
       "      <td>Girona</td>\n",
       "      <td>MULTIPOLYGON (((1.74871 42.49482, 1.82355 42.4...</td>\n",
       "    </tr>\n",
       "    <tr>\n",
       "      <th>4</th>\n",
       "      <td>35</td>\n",
       "      <td>04</td>\n",
       "      <td>Palmas (Las)</td>\n",
       "      <td>MULTIPOLYGON (((-13.89051 28.75685, -13.83632 ...</td>\n",
       "    </tr>\n",
       "  </tbody>\n",
       "</table>\n",
       "</div>"
      ],
      "text/plain": [
       "  cod_prov cod_ccaa             name  \\\n",
       "0       07       03  Balears (Illes)   \n",
       "1       33       18         Asturias   \n",
       "2       15       11       Coruña (A)   \n",
       "3       17       08           Girona   \n",
       "4       35       04     Palmas (Las)   \n",
       "\n",
       "                                            geometry  \n",
       "0  MULTIPOLYGON (((3.21364 39.95751, 3.1544 39.92...  \n",
       "1  MULTIPOLYGON (((-5.84083 43.66062, -5.83002 43...  \n",
       "2  MULTIPOLYGON (((-7.6803 43.78714, -7.66231 43....  \n",
       "3  MULTIPOLYGON (((1.74871 42.49482, 1.82355 42.4...  \n",
       "4  MULTIPOLYGON (((-13.89051 28.75685, -13.83632 ...  "
      ]
     },
     "execution_count": 32,
     "metadata": {},
     "output_type": "execute_result"
    }
   ],
   "source": [
    "df_silver_provinces = (\n",
    "    df_provinces\n",
    "    .assign(\n",
    "        name=lambda df: df.name.map(lambda x: normalize_str_choices(x, spain_provinces)),\n",
    "\n",
    "    )\n",
    "    .astype({\n",
    "        \"cod_prov\": \"string\",\n",
    "        \"cod_ccaa\": \"string\",\n",
    "        \"name\": \"string\",\n",
    "    })\n",
    "    [[\"cod_prov\", \"cod_ccaa\", \"name\", \"geometry\"]]\n",
    ")\n",
    "df_silver_provinces.head()"
   ]
  },
  {
   "cell_type": "code",
   "execution_count": 37,
   "metadata": {},
   "outputs": [],
   "source": [
    "assert df_silver_provinces.isna().sum().sum() == 0"
   ]
  },
  {
   "cell_type": "markdown",
   "metadata": {},
   "source": [
    "# Almacenamos datos en s3"
   ]
  },
  {
   "cell_type": "code",
   "execution_count": 42,
   "metadata": {},
   "outputs": [],
   "source": [
    "df_silver_communities.to_file('/tmp/spain-communities.geojson', driver='GeoJSON')  \n",
    "df_silver_provinces.to_file('/tmp/spain-provinces.geojson', driver='GeoJSON')  "
   ]
  },
  {
   "cell_type": "code",
   "execution_count": 46,
   "metadata": {},
   "outputs": [],
   "source": [
    "wr.s3.upload('/tmp/spain-communities.geojson', f\"{DATA_PATH}/schemas/spain-communities.geojson\")"
   ]
  },
  {
   "cell_type": "code",
   "execution_count": 48,
   "metadata": {},
   "outputs": [],
   "source": [
    "wr.s3.upload('/tmp/spain-provinces.geojson', f\"{DATA_PATH}/schemas/spain-provinces.geojson\")"
   ]
  }
 ],
 "metadata": {
  "kernelspec": {
   "display_name": ".venv",
   "language": "python",
   "name": "python3"
  },
  "language_info": {
   "codemirror_mode": {
    "name": "ipython",
    "version": 3
   },
   "file_extension": ".py",
   "mimetype": "text/x-python",
   "name": "python",
   "nbconvert_exporter": "python",
   "pygments_lexer": "ipython3",
   "version": "3.12.7"
  }
 },
 "nbformat": 4,
 "nbformat_minor": 2
}
